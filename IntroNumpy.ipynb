{
 "cells": [
  {
   "cell_type": "code",
   "execution_count": 2,
   "id": "58ebbe8e",
   "metadata": {},
   "outputs": [],
   "source": [
    "import numpy as np"
   ]
  },
  {
   "cell_type": "code",
   "execution_count": 4,
   "id": "0f8ea468",
   "metadata": {},
   "outputs": [],
   "source": [
    "a = np.zeros((2,4))"
   ]
  },
  {
   "cell_type": "code",
   "execution_count": 6,
   "id": "470a03df",
   "metadata": {},
   "outputs": [
    {
     "data": {
      "text/plain": [
       "array([[0., 0., 0., 0.],\n",
       "       [0., 0., 0., 0.]])"
      ]
     },
     "execution_count": 6,
     "metadata": {},
     "output_type": "execute_result"
    }
   ],
   "source": [
    "a"
   ]
  },
  {
   "cell_type": "code",
   "execution_count": 7,
   "id": "adfa2cdb",
   "metadata": {},
   "outputs": [
    {
     "data": {
      "text/plain": [
       "(2, 4)"
      ]
     },
     "execution_count": 7,
     "metadata": {},
     "output_type": "execute_result"
    }
   ],
   "source": [
    "a.shape"
   ]
  },
  {
   "cell_type": "code",
   "execution_count": 8,
   "id": "73208bc1",
   "metadata": {},
   "outputs": [
    {
     "data": {
      "text/plain": [
       "2"
      ]
     },
     "execution_count": 8,
     "metadata": {},
     "output_type": "execute_result"
    }
   ],
   "source": [
    "a.ndim"
   ]
  },
  {
   "cell_type": "code",
   "execution_count": 9,
   "id": "d32f9682",
   "metadata": {},
   "outputs": [
    {
     "data": {
      "text/plain": [
       "8"
      ]
     },
     "execution_count": 9,
     "metadata": {},
     "output_type": "execute_result"
    }
   ],
   "source": [
    "a.size"
   ]
  },
  {
   "cell_type": "code",
   "execution_count": 10,
   "id": "8c198e1f",
   "metadata": {},
   "outputs": [
    {
     "data": {
      "text/plain": [
       "array([[[0., 0., 0., 0.],\n",
       "        [0., 0., 0., 0.],\n",
       "        [0., 0., 0., 0.]],\n",
       "\n",
       "       [[0., 0., 0., 0.],\n",
       "        [0., 0., 0., 0.],\n",
       "        [0., 0., 0., 0.]]])"
      ]
     },
     "execution_count": 10,
     "metadata": {},
     "output_type": "execute_result"
    }
   ],
   "source": [
    "np.zeros((2,3,4))"
   ]
  },
  {
   "cell_type": "code",
   "execution_count": 11,
   "id": "100177b9",
   "metadata": {},
   "outputs": [
    {
     "data": {
      "text/plain": [
       "array([[[8, 8, 8, 8],\n",
       "        [8, 8, 8, 8],\n",
       "        [8, 8, 8, 8]],\n",
       "\n",
       "       [[8, 8, 8, 8],\n",
       "        [8, 8, 8, 8],\n",
       "        [8, 8, 8, 8]]])"
      ]
     },
     "execution_count": 11,
     "metadata": {},
     "output_type": "execute_result"
    }
   ],
   "source": [
    "np.full((2,3,4), 8)"
   ]
  },
  {
   "cell_type": "code",
   "execution_count": 12,
   "id": "db7495ca",
   "metadata": {},
   "outputs": [
    {
     "data": {
      "text/plain": [
       "array([[[1.45067536e-311, 1.45068726e-311, 0.00000000e+000,\n",
       "         6.95287745e-310, 2.32210854e-322, 1.45070174e-311,\n",
       "         1.45070174e-311, 1.45070174e-311, 1.45070174e-311],\n",
       "        [1.45070165e-311, 1.45070174e-311, 1.45070165e-311,\n",
       "         1.45070165e-311, 1.45070174e-311, 1.45070165e-311,\n",
       "         1.45070174e-311, 1.45070174e-311, 1.45070165e-311],\n",
       "        [1.45070174e-311, 1.45070165e-311, 1.45070165e-311,\n",
       "         1.45070174e-311, 1.45070174e-311, 1.45070165e-311,\n",
       "         1.45070174e-311, 1.45070165e-311, 1.45070174e-311]],\n",
       "\n",
       "       [[1.45070174e-311, 1.45070174e-311, 1.45070174e-311,\n",
       "         1.45070174e-311, 1.45070165e-311, 1.45070174e-311,\n",
       "         1.45070174e-311, 1.45070174e-311, 1.45070174e-311],\n",
       "        [1.45070174e-311, 1.45070174e-311, 1.45070174e-311,\n",
       "         1.45070174e-311, 1.45070165e-311, 1.45070165e-311,\n",
       "         1.45070165e-311, 1.45070174e-311, 1.45070165e-311],\n",
       "        [1.45070174e-311, 1.45070174e-311, 1.45070174e-311,\n",
       "         1.45070174e-311, 1.45070174e-311, 1.45070174e-311,\n",
       "         1.45070165e-311, 1.45070171e-311, 6.67043863e-308]]])"
      ]
     },
     "execution_count": 12,
     "metadata": {},
     "output_type": "execute_result"
    }
   ],
   "source": [
    "np.empty((2,3, 9))"
   ]
  },
  {
   "cell_type": "code",
   "execution_count": null,
   "id": "ed7d1659",
   "metadata": {},
   "outputs": [],
   "source": []
  }
 ],
 "metadata": {
  "kernelspec": {
   "display_name": "Python 3 (ipykernel)",
   "language": "python",
   "name": "python3"
  },
  "language_info": {
   "codemirror_mode": {
    "name": "ipython",
    "version": 3
   },
   "file_extension": ".py",
   "mimetype": "text/x-python",
   "name": "python",
   "nbconvert_exporter": "python",
   "pygments_lexer": "ipython3",
   "version": "3.10.9"
  }
 },
 "nbformat": 4,
 "nbformat_minor": 5
}
