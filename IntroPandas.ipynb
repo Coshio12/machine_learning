{
 "cells": [
  {
   "cell_type": "code",
   "execution_count": 1,
   "id": "aef53dfe",
   "metadata": {},
   "outputs": [],
   "source": [
    "import pandas as pd"
   ]
  },
  {
   "cell_type": "code",
   "execution_count": 2,
   "id": "eac19c75",
   "metadata": {},
   "outputs": [
    {
     "name": "stdout",
     "output_type": "stream",
     "text": [
      "0     2\n",
      "1     4\n",
      "2     6\n",
      "3     8\n",
      "4    10\n",
      "dtype: int64\n"
     ]
    }
   ],
   "source": [
    "s = pd.Series([2, 4, 6, 8, 10])\n",
    "print(s)"
   ]
  },
  {
   "cell_type": "code",
   "execution_count": 3,
   "id": "ba338e48",
   "metadata": {},
   "outputs": [
    {
     "name": "stdout",
     "output_type": "stream",
     "text": [
      "Santiago    187\n",
      "Pedro       178\n",
      "Julia       170\n",
      "Ana         165\n",
      "dtype: int64\n"
     ]
    }
   ],
   "source": [
    "altura = {\"Santiago\": 187, \"Pedro\": 178, \"Julia\": 170, \"Ana\": 165}\n",
    "#          CLAVE,    VALOR\n",
    "s = pd.Series(altura)\n",
    "print(s)"
   ]
  },
  {
   "cell_type": "code",
   "execution_count": 6,
   "id": "0cb7aa48",
   "metadata": {},
   "outputs": [],
   "source": [
    "altura = {\"Santiago\": 187, \"Pedro\": 178, \"Julia\": 170, \"Ana\": 165}\n",
    "#          CLAVE,    VALOR\n",
    "s = pd.Series(altura, index = [\"Pedro\",\"Julia\"])"
   ]
  },
  {
   "cell_type": "code",
   "execution_count": 7,
   "id": "3f112209",
   "metadata": {},
   "outputs": [
    {
     "name": "stdout",
     "output_type": "stream",
     "text": [
      "Pedro    178\n",
      "Julia    170\n",
      "dtype: int64\n"
     ]
    }
   ],
   "source": [
    "print(s)"
   ]
  },
  {
   "cell_type": "code",
   "execution_count": 8,
   "id": "31d96f2e",
   "metadata": {},
   "outputs": [
    {
     "name": "stdout",
     "output_type": "stream",
     "text": [
      "num1    2\n",
      "num2    4\n",
      "num3    6\n",
      "num4    8\n",
      "dtype: int64\n"
     ]
    }
   ],
   "source": [
    "s = pd.Series([2, 4, 6, 8], index=[\"num1\",\"num2\",\"num3\",\"num4\",])\n",
    "print(s)"
   ]
  },
  {
   "cell_type": "code",
   "execution_count": 9,
   "id": "bb7e8411",
   "metadata": {},
   "outputs": [
    {
     "data": {
      "text/plain": [
       "6"
      ]
     },
     "execution_count": 9,
     "metadata": {},
     "output_type": "execute_result"
    }
   ],
   "source": [
    "s[\"num3\"]"
   ]
  },
  {
   "cell_type": "code",
   "execution_count": 10,
   "id": "8880a5b3",
   "metadata": {},
   "outputs": [
    {
     "data": {
      "text/plain": [
       "6"
      ]
     },
     "execution_count": 10,
     "metadata": {},
     "output_type": "execute_result"
    }
   ],
   "source": [
    "s[2]"
   ]
  },
  {
   "cell_type": "code",
   "execution_count": 11,
   "id": "863989f1",
   "metadata": {},
   "outputs": [
    {
     "data": {
      "text/plain": [
       "6"
      ]
     },
     "execution_count": 11,
     "metadata": {},
     "output_type": "execute_result"
    }
   ],
   "source": [
    "s.loc[\"num3\"]#ubicar en base de la clave y sacar un valor, trata mayormente de las columnas\n",
    "             #sacaria todos los valores en la columna num3"
   ]
  },
  {
   "cell_type": "code",
   "execution_count": 12,
   "id": "33cafab1",
   "metadata": {},
   "outputs": [
    {
     "data": {
      "text/plain": [
       "6"
      ]
     },
     "execution_count": 12,
     "metadata": {},
     "output_type": "execute_result"
    }
   ],
   "source": [
    "s.iloc[2]"
   ]
  },
  {
   "cell_type": "code",
   "execution_count": 15,
   "id": "c5f8837f",
   "metadata": {},
   "outputs": [
    {
     "data": {
      "text/plain": [
       "num2    4\n",
       "num3    6\n",
       "dtype: int64"
      ]
     },
     "execution_count": 15,
     "metadata": {},
     "output_type": "execute_result"
    }
   ],
   "source": [
    "s.iloc[1:3]"
   ]
  },
  {
   "cell_type": "code",
   "execution_count": 17,
   "id": "ec214455",
   "metadata": {},
   "outputs": [
    {
     "data": {
      "text/html": [
       "<div>\n",
       "<style scoped>\n",
       "    .dataframe tbody tr th:only-of-type {\n",
       "        vertical-align: middle;\n",
       "    }\n",
       "\n",
       "    .dataframe tbody tr th {\n",
       "        vertical-align: top;\n",
       "    }\n",
       "\n",
       "    .dataframe thead th {\n",
       "        text-align: right;\n",
       "    }\n",
       "</style>\n",
       "<table border=\"1\" class=\"dataframe\">\n",
       "  <thead>\n",
       "    <tr style=\"text-align: right;\">\n",
       "      <th></th>\n",
       "      <th>peso</th>\n",
       "      <th>altura</th>\n",
       "      <th>hijos</th>\n",
       "    </tr>\n",
       "  </thead>\n",
       "  <tbody>\n",
       "    <tr>\n",
       "      <th>Ana</th>\n",
       "      <td>56</td>\n",
       "      <td>165</td>\n",
       "      <td>NaN</td>\n",
       "    </tr>\n",
       "    <tr>\n",
       "      <th>Julia</th>\n",
       "      <td>64</td>\n",
       "      <td>170</td>\n",
       "      <td>3.0</td>\n",
       "    </tr>\n",
       "    <tr>\n",
       "      <th>Pedro</th>\n",
       "      <td>90</td>\n",
       "      <td>178</td>\n",
       "      <td>2.0</td>\n",
       "    </tr>\n",
       "    <tr>\n",
       "      <th>Santiago</th>\n",
       "      <td>84</td>\n",
       "      <td>187</td>\n",
       "      <td>NaN</td>\n",
       "    </tr>\n",
       "  </tbody>\n",
       "</table>\n",
       "</div>"
      ],
      "text/plain": [
       "          peso  altura  hijos\n",
       "Ana         56     165    NaN\n",
       "Julia       64     170    3.0\n",
       "Pedro       90     178    2.0\n",
       "Santiago    84     187    NaN"
      ]
     },
     "execution_count": 17,
     "metadata": {},
     "output_type": "execute_result"
    }
   ],
   "source": [
    "# Creacion de un Dataframe inicializando con un diccionario de objetos Series\n",
    "personas = {\n",
    "    \"peso\":pd.Series([84, 90, 56, 64], [\"Santiago\",\"Pedro\",\"Ana\",\"Julia\"]),\n",
    "    \"altura\": pd.Series({\"Santiago\": 187,\"Pedro\": 178,\"Julia\": 170, \"Ana\":165}),\n",
    "    \"hijos\": pd.Series([2, 3], [\"Pedro\",\"Julia\"])\n",
    "}\n",
    "df = pd.DataFrame(personas)\n",
    "df"
   ]
  },
  {
   "cell_type": "code",
   "execution_count": 18,
   "id": "12e5a47d",
   "metadata": {},
   "outputs": [
    {
     "data": {
      "text/html": [
       "<div>\n",
       "<style scoped>\n",
       "    .dataframe tbody tr th:only-of-type {\n",
       "        vertical-align: middle;\n",
       "    }\n",
       "\n",
       "    .dataframe tbody tr th {\n",
       "        vertical-align: top;\n",
       "    }\n",
       "\n",
       "    .dataframe thead th {\n",
       "        text-align: right;\n",
       "    }\n",
       "</style>\n",
       "<table border=\"1\" class=\"dataframe\">\n",
       "  <thead>\n",
       "    <tr style=\"text-align: right;\">\n",
       "      <th></th>\n",
       "      <th>altura</th>\n",
       "      <th>peso</th>\n",
       "    </tr>\n",
       "  </thead>\n",
       "  <tbody>\n",
       "    <tr>\n",
       "      <th>Ana</th>\n",
       "      <td>165</td>\n",
       "      <td>56</td>\n",
       "    </tr>\n",
       "    <tr>\n",
       "      <th>Julia</th>\n",
       "      <td>170</td>\n",
       "      <td>64</td>\n",
       "    </tr>\n",
       "    <tr>\n",
       "      <th>Santiago</th>\n",
       "      <td>187</td>\n",
       "      <td>84</td>\n",
       "    </tr>\n",
       "  </tbody>\n",
       "</table>\n",
       "</div>"
      ],
      "text/plain": [
       "          altura  peso\n",
       "Ana          165    56\n",
       "Julia        170    64\n",
       "Santiago     187    84"
      ]
     },
     "execution_count": 18,
     "metadata": {},
     "output_type": "execute_result"
    }
   ],
   "source": [
    "personas = {\n",
    "    \"peso\":pd.Series([84, 90, 56, 64], [\"Santiago\",\"Pedro\",\"Ana\",\"Julia\"]),\n",
    "    \"altura\": pd.Series({\"Santiago\": 187,\"Pedro\": 178,\"Julia\": 170, \"Ana\":165}),\n",
    "    \"hijos\": pd.Series([2, 3], [\"Pedro\",\"Julia\"])\n",
    "}\n",
    "df = pd.DataFrame(\n",
    "    personas,\n",
    "    columns = [\"altura\",\"peso\"],\n",
    "    index = [\"Ana\",\"Julia\",\"Santiago\"]\n",
    ")\n",
    "df"
   ]
  },
  {
   "cell_type": "code",
   "execution_count": null,
   "id": "a472c1c6",
   "metadata": {},
   "outputs": [],
   "source": []
  }
 ],
 "metadata": {
  "kernelspec": {
   "display_name": "Python 3 (ipykernel)",
   "language": "python",
   "name": "python3"
  },
  "language_info": {
   "codemirror_mode": {
    "name": "ipython",
    "version": 3
   },
   "file_extension": ".py",
   "mimetype": "text/x-python",
   "name": "python",
   "nbconvert_exporter": "python",
   "pygments_lexer": "ipython3",
   "version": "3.10.9"
  }
 },
 "nbformat": 4,
 "nbformat_minor": 5
}
